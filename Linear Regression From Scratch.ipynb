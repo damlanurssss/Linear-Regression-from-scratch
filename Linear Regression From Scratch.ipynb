{
 "cells": [
  {
   "cell_type": "code",
   "execution_count": 85,
   "id": "89d20e0a-13e9-4720-8d8a-907ae4f90e8b",
   "metadata": {},
   "outputs": [],
   "source": [
    "import pandas as pd\n",
    "import matplotlib.pyplot as plt"
   ]
  },
  {
   "cell_type": "code",
   "execution_count": 87,
   "id": "0c4490a9-3932-402b-82a6-281e5b815bba",
   "metadata": {},
   "outputs": [],
   "source": [
    "df=pd.read_csv(\"/Users/damlanursert/Downloads/Student_Marks.csv\")"
   ]
  },
  {
   "cell_type": "code",
   "execution_count": 89,
   "id": "d1ee87ff-769c-4c67-b507-48854c36e012",
   "metadata": {},
   "outputs": [
    {
     "name": "stdout",
     "output_type": "stream",
     "text": [
      "    number_courses  time_study   Marks\n",
      "0                3       4.508  19.202\n",
      "1                4       0.096   7.734\n",
      "2                4       3.133  13.811\n",
      "3                6       7.909  53.018\n",
      "4                8       7.811  55.299\n",
      "..             ...         ...     ...\n",
      "95               6       3.561  19.128\n",
      "96               3       0.301   5.609\n",
      "97               4       7.163  41.444\n",
      "98               7       0.309  12.027\n",
      "99               3       6.335  32.357\n",
      "\n",
      "[100 rows x 3 columns]\n"
     ]
    }
   ],
   "source": [
    "print(df)"
   ]
  },
  {
   "cell_type": "code",
   "execution_count": 91,
   "id": "2653a07f-5ed9-4aeb-a468-e1959a4c42e3",
   "metadata": {},
   "outputs": [],
   "source": [
    "df.drop(\"number_courses\", axis=1, inplace=True)\n"
   ]
  },
  {
   "cell_type": "code",
   "execution_count": 93,
   "id": "2f688efd-826e-462e-a689-197dcaf3716a",
   "metadata": {},
   "outputs": [
    {
     "data": {
      "text/html": [
       "<div>\n",
       "<style scoped>\n",
       "    .dataframe tbody tr th:only-of-type {\n",
       "        vertical-align: middle;\n",
       "    }\n",
       "\n",
       "    .dataframe tbody tr th {\n",
       "        vertical-align: top;\n",
       "    }\n",
       "\n",
       "    .dataframe thead th {\n",
       "        text-align: right;\n",
       "    }\n",
       "</style>\n",
       "<table border=\"1\" class=\"dataframe\">\n",
       "  <thead>\n",
       "    <tr style=\"text-align: right;\">\n",
       "      <th></th>\n",
       "      <th>time_study</th>\n",
       "      <th>Marks</th>\n",
       "    </tr>\n",
       "  </thead>\n",
       "  <tbody>\n",
       "    <tr>\n",
       "      <th>count</th>\n",
       "      <td>100.000000</td>\n",
       "      <td>100.000000</td>\n",
       "    </tr>\n",
       "    <tr>\n",
       "      <th>mean</th>\n",
       "      <td>4.077140</td>\n",
       "      <td>24.417690</td>\n",
       "    </tr>\n",
       "    <tr>\n",
       "      <th>std</th>\n",
       "      <td>2.372914</td>\n",
       "      <td>14.326199</td>\n",
       "    </tr>\n",
       "    <tr>\n",
       "      <th>min</th>\n",
       "      <td>0.096000</td>\n",
       "      <td>5.609000</td>\n",
       "    </tr>\n",
       "    <tr>\n",
       "      <th>25%</th>\n",
       "      <td>2.058500</td>\n",
       "      <td>12.633000</td>\n",
       "    </tr>\n",
       "    <tr>\n",
       "      <th>50%</th>\n",
       "      <td>4.022000</td>\n",
       "      <td>20.059500</td>\n",
       "    </tr>\n",
       "    <tr>\n",
       "      <th>75%</th>\n",
       "      <td>6.179250</td>\n",
       "      <td>36.676250</td>\n",
       "    </tr>\n",
       "    <tr>\n",
       "      <th>max</th>\n",
       "      <td>7.957000</td>\n",
       "      <td>55.299000</td>\n",
       "    </tr>\n",
       "  </tbody>\n",
       "</table>\n",
       "</div>"
      ],
      "text/plain": [
       "       time_study       Marks\n",
       "count  100.000000  100.000000\n",
       "mean     4.077140   24.417690\n",
       "std      2.372914   14.326199\n",
       "min      0.096000    5.609000\n",
       "25%      2.058500   12.633000\n",
       "50%      4.022000   20.059500\n",
       "75%      6.179250   36.676250\n",
       "max      7.957000   55.299000"
      ]
     },
     "execution_count": 93,
     "metadata": {},
     "output_type": "execute_result"
    }
   ],
   "source": [
    "df.describe()"
   ]
  },
  {
   "cell_type": "code",
   "execution_count": 95,
   "id": "dfcb2db9-326e-40a5-9d4c-79b5e790c3fd",
   "metadata": {},
   "outputs": [
    {
     "data": {
      "text/html": [
       "<div>\n",
       "<style scoped>\n",
       "    .dataframe tbody tr th:only-of-type {\n",
       "        vertical-align: middle;\n",
       "    }\n",
       "\n",
       "    .dataframe tbody tr th {\n",
       "        vertical-align: top;\n",
       "    }\n",
       "\n",
       "    .dataframe thead th {\n",
       "        text-align: right;\n",
       "    }\n",
       "</style>\n",
       "<table border=\"1\" class=\"dataframe\">\n",
       "  <thead>\n",
       "    <tr style=\"text-align: right;\">\n",
       "      <th></th>\n",
       "      <th>time_study</th>\n",
       "      <th>Marks</th>\n",
       "    </tr>\n",
       "  </thead>\n",
       "  <tbody>\n",
       "    <tr>\n",
       "      <th>0</th>\n",
       "      <td>4.508</td>\n",
       "      <td>19.202</td>\n",
       "    </tr>\n",
       "    <tr>\n",
       "      <th>1</th>\n",
       "      <td>0.096</td>\n",
       "      <td>7.734</td>\n",
       "    </tr>\n",
       "    <tr>\n",
       "      <th>2</th>\n",
       "      <td>3.133</td>\n",
       "      <td>13.811</td>\n",
       "    </tr>\n",
       "    <tr>\n",
       "      <th>3</th>\n",
       "      <td>7.909</td>\n",
       "      <td>53.018</td>\n",
       "    </tr>\n",
       "    <tr>\n",
       "      <th>4</th>\n",
       "      <td>7.811</td>\n",
       "      <td>55.299</td>\n",
       "    </tr>\n",
       "  </tbody>\n",
       "</table>\n",
       "</div>"
      ],
      "text/plain": [
       "   time_study   Marks\n",
       "0       4.508  19.202\n",
       "1       0.096   7.734\n",
       "2       3.133  13.811\n",
       "3       7.909  53.018\n",
       "4       7.811  55.299"
      ]
     },
     "execution_count": 95,
     "metadata": {},
     "output_type": "execute_result"
    }
   ],
   "source": [
    "df.head()"
   ]
  },
  {
   "cell_type": "markdown",
   "id": "c786d8de-6138-419b-8931-2fefbaf7d7c5",
   "metadata": {},
   "source": [
    "## LOSS FUNCTION"
   ]
  },
  {
   "cell_type": "code",
   "execution_count": 97,
   "id": "8bcaaae3-e65e-4de1-a286-a6a997856f0e",
   "metadata": {},
   "outputs": [],
   "source": [
    "def loss_function(m,b,points):\n",
    "    total_error=0\n",
    "    for i in range(len(points)):\n",
    "        x= points.iloc[i].time_study\n",
    "        y=points.iloc[i].Marks\n",
    "        total_error += (y - (m*x+b)) **2\n",
    "    total_error/float(len(points))\n",
    "        \n",
    "    \n",
    "    "
   ]
  },
  {
   "cell_type": "markdown",
   "id": "f29cdefe-ef9e-4652-9c10-2243e914f587",
   "metadata": {},
   "source": [
    "## GRADIENT DESCENT FUNCTION"
   ]
  },
  {
   "cell_type": "code",
   "execution_count": 99,
   "id": "d7f2aa19-05bb-48f7-af39-fd864b4354a3",
   "metadata": {},
   "outputs": [],
   "source": [
    "def gradient_descent(m_now,b_now,points,L):\n",
    "    m_gradient=0\n",
    "    b_gradient=0\n",
    "    n=len(points)\n",
    "    for i in range(n):\n",
    "        x=points.iloc[i][\"time_study\"]\n",
    "        y=points.iloc[i][\"Marks\"]\n",
    "        m_gradient= -(2/n) *x*(y-(m_now*x+b_now))\n",
    "        b_gradient= -(2/n) *(y-(m_now*x+b_now))\n",
    "    m=m_now-m_gradient * L\n",
    "    b=b_now-b_gradient*L\n",
    "    return m, b\n"
   ]
  },
  {
   "cell_type": "code",
   "execution_count": 101,
   "id": "12bfee23-872b-4ed7-a0a3-5444bb33f50d",
   "metadata": {},
   "outputs": [
    {
     "name": "stdout",
     "output_type": "stream",
     "text": [
      "epoch: 0\n",
      "epoch: 50\n",
      "epoch: 100\n",
      "epoch: 150\n",
      "epoch: 200\n",
      "epoch: 250\n",
      "epoch: 300\n",
      "epoch: 350\n",
      "epoch: 400\n",
      "epoch: 450\n",
      "epoch: 500\n",
      "epoch: 550\n",
      "epoch: 600\n",
      "epoch: 650\n",
      "epoch: 700\n",
      "epoch: 750\n",
      "epoch: 800\n",
      "epoch: 850\n",
      "epoch: 900\n",
      "epoch: 950\n",
      "epoch: 1000\n",
      "epoch: 1050\n",
      "epoch: 1100\n",
      "epoch: 1150\n",
      "epoch: 1200\n",
      "epoch: 1250\n",
      "epoch: 1300\n",
      "epoch: 1350\n",
      "epoch: 1400\n",
      "epoch: 1450\n",
      "epoch: 1500\n",
      "epoch: 1550\n",
      "epoch: 1600\n",
      "epoch: 1650\n",
      "epoch: 1700\n",
      "epoch: 1750\n",
      "epoch: 1800\n",
      "epoch: 1850\n",
      "epoch: 1900\n",
      "epoch: 1950\n",
      "epoch: 2000\n",
      "epoch: 2050\n",
      "epoch: 2100\n",
      "epoch: 2150\n",
      "epoch: 2200\n",
      "epoch: 2250\n",
      "epoch: 2300\n",
      "epoch: 2350\n",
      "epoch: 2400\n",
      "epoch: 2450\n",
      "epoch: 2500\n",
      "epoch: 2550\n",
      "epoch: 2600\n",
      "epoch: 2650\n",
      "epoch: 2700\n",
      "epoch: 2750\n",
      "epoch: 2800\n",
      "epoch: 2850\n",
      "epoch: 2900\n",
      "epoch: 2950\n",
      "epoch: 3000\n",
      "epoch: 3050\n",
      "epoch: 3100\n",
      "epoch: 3150\n",
      "epoch: 3200\n",
      "epoch: 3250\n",
      "epoch: 3300\n",
      "epoch: 3350\n",
      "epoch: 3400\n",
      "epoch: 3450\n",
      "epoch: 3500\n",
      "epoch: 3550\n",
      "epoch: 3600\n",
      "epoch: 3650\n",
      "epoch: 3700\n",
      "epoch: 3750\n",
      "epoch: 3800\n",
      "epoch: 3850\n",
      "epoch: 3900\n",
      "epoch: 3950\n",
      "epoch: 4000\n",
      "epoch: 4050\n",
      "epoch: 4100\n",
      "epoch: 4150\n",
      "epoch: 4200\n",
      "epoch: 4250\n",
      "epoch: 4300\n",
      "epoch: 4350\n",
      "epoch: 4400\n",
      "epoch: 4450\n",
      "4.8606913095964295 0.7672756605519213\n"
     ]
    },
    {
     "data": {
      "image/png": "[encoded data removed]",
      "text/plain": [
       "<Figure size 640x480 with 1 Axes>"
      ]
     },
     "metadata": {},
     "output_type": "display_data"
    }
   ],
   "source": [
    "m= 0\n",
    "b= 0 \n",
    "L= 0.001\n",
    "epochs=4500\n",
    "\n",
    "for i in range(epochs):\n",
    "    if i % 50 == 0:\n",
    "        print(f\"epoch: {i}\")\n",
    "    m,b=gradient_descent(m,b,df,L)\n",
    "    \n",
    "print(m,b)   \n",
    "\n",
    "plt.scatter(df.time_study, df.Marks, color=\"black\")\n",
    "plt.plot(list(range(0,8)), [m*x+b for x in range (0,8)] , color=\"red\")\n",
    "plt.show()\n",
    "\n"
   ]
  }
 ],
 "metadata": {
  "kernelspec": {
   "display_name": "Python 3 (ipykernel)",
   "language": "python",
   "name": "python3"
  },
  "language_info": {
   "codemirror_mode": {
    "name": "ipython",
    "version": 3
   },
   "file_extension": ".py",
   "mimetype": "text/x-python",
   "name": "python",
   "nbconvert_exporter": "python",
   "pygments_lexer": "ipython3",
   "version": "3.12.4"
  }
 },
 "nbformat": 4,
 "nbformat_minor": 5
}
